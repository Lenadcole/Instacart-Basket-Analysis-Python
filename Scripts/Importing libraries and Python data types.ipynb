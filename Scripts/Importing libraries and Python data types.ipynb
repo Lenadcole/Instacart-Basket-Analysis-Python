{
 "cells": [
  {
   "cell_type": "markdown",
   "id": "6759b8ac",
   "metadata": {},
   "source": [
    " # 01. Importing libraries"
   ]
  },
  {
   "cell_type": "code",
   "execution_count": 1,
   "id": "137a5b16",
   "metadata": {},
   "outputs": [],
   "source": [
    "#Import libraries\n",
    "import pandas as pd\n",
    "import numpy as np\n",
    "import os"
   ]
  },
  {
   "cell_type": "markdown",
   "id": "f1a0dbea",
   "metadata": {},
   "source": [
    "# 02. Data types"
   ]
  },
  {
   "cell_type": "code",
   "execution_count": 32,
   "id": "baf08ec6",
   "metadata": {},
   "outputs": [],
   "source": [
    "# Code 3 different ways of reaching a result of 100."
   ]
  },
  {
   "cell_type": "code",
   "execution_count": 33,
   "id": "2eb6417d",
   "metadata": {},
   "outputs": [],
   "source": [
    "a = 100"
   ]
  },
  {
   "cell_type": "code",
   "execution_count": 34,
   "id": "c5810c9c",
   "metadata": {},
   "outputs": [],
   "source": [
    "b = 0"
   ]
  },
  {
   "cell_type": "code",
   "execution_count": 35,
   "id": "1c789e0c",
   "metadata": {},
   "outputs": [
    {
     "data": {
      "text/plain": [
       "100"
      ]
     },
     "execution_count": 35,
     "metadata": {},
     "output_type": "execute_result"
    }
   ],
   "source": [
    "a - b"
   ]
  },
  {
   "cell_type": "code",
   "execution_count": 59,
   "id": "185e9b07",
   "metadata": {},
   "outputs": [],
   "source": [
    "c = 40"
   ]
  },
  {
   "cell_type": "code",
   "execution_count": 60,
   "id": "7e08005c",
   "metadata": {},
   "outputs": [],
   "source": [
    "d = 60"
   ]
  },
  {
   "cell_type": "code",
   "execution_count": 61,
   "id": "9d9853b7",
   "metadata": {},
   "outputs": [
    {
     "data": {
      "text/plain": [
       "100"
      ]
     },
     "execution_count": 61,
     "metadata": {},
     "output_type": "execute_result"
    }
   ],
   "source": [
    "c + d"
   ]
  },
  {
   "cell_type": "code",
   "execution_count": 62,
   "id": "0133ff47",
   "metadata": {},
   "outputs": [
    {
     "data": {
      "text/plain": [
       "100"
      ]
     },
     "execution_count": 62,
     "metadata": {},
     "output_type": "execute_result"
    }
   ],
   "source": [
    "d + a - d"
   ]
  },
  {
   "cell_type": "code",
   "execution_count": 41,
   "id": "87d1585b",
   "metadata": {},
   "outputs": [],
   "source": [
    "# Code 2 floating-point variables and divide them by each other."
   ]
  },
  {
   "cell_type": "code",
   "execution_count": 42,
   "id": "d95dcd15",
   "metadata": {},
   "outputs": [],
   "source": [
    "x = 3.14"
   ]
  },
  {
   "cell_type": "code",
   "execution_count": 43,
   "id": "d6f3d4d7",
   "metadata": {},
   "outputs": [],
   "source": [
    "y = 0.181"
   ]
  },
  {
   "cell_type": "code",
   "execution_count": 44,
   "id": "a4bb49bf",
   "metadata": {},
   "outputs": [
    {
     "data": {
      "text/plain": [
       "0.8740331491712708"
      ]
     },
     "execution_count": 44,
     "metadata": {},
     "output_type": "execute_result"
    }
   ],
   "source": [
    "x / y"
   ]
  },
  {
   "cell_type": "code",
   "execution_count": 45,
   "id": "68d1cb41",
   "metadata": {},
   "outputs": [
    {
     "data": {
      "text/plain": [
       "1.1441213653603033"
      ]
     },
     "execution_count": 45,
     "metadata": {},
     "output_type": "execute_result"
    }
   ],
   "source": [
    "y / x"
   ]
  },
  {
   "cell_type": "code",
   "execution_count": 63,
   "id": "72578b1e",
   "metadata": {},
   "outputs": [],
   "source": [
    "# Construct a short word made of separate strings"
   ]
  },
  {
   "cell_type": "code",
   "execution_count": 46,
   "id": "25e74593",
   "metadata": {},
   "outputs": [],
   "source": [
    "e = 'Pyt'"
   ]
  },
  {
   "cell_type": "code",
   "execution_count": 47,
   "id": "21092515",
   "metadata": {},
   "outputs": [],
   "source": [
    "f = 'hon'"
   ]
  },
  {
   "cell_type": "code",
   "execution_count": 48,
   "id": "9c14b040",
   "metadata": {},
   "outputs": [
    {
     "data": {
      "text/plain": [
       "'Python'"
      ]
     },
     "execution_count": 48,
     "metadata": {},
     "output_type": "execute_result"
    }
   ],
   "source": [
    "e + f"
   ]
  },
  {
   "cell_type": "code",
   "execution_count": 64,
   "id": "30b34d39",
   "metadata": {},
   "outputs": [],
   "source": [
    "# Construct 2 short sentences made of separate strings"
   ]
  },
  {
   "cell_type": "code",
   "execution_count": 70,
   "id": "b2a173e5",
   "metadata": {},
   "outputs": [],
   "source": [
    "m = 'You are my sunshine, my only sunshine.'"
   ]
  },
  {
   "cell_type": "code",
   "execution_count": 71,
   "id": "db142aac",
   "metadata": {},
   "outputs": [],
   "source": [
    "n = 'You make me happy when skies are grey.'"
   ]
  },
  {
   "cell_type": "code",
   "execution_count": 73,
   "id": "d7f7988c",
   "metadata": {
    "scrolled": true
   },
   "outputs": [
    {
     "data": {
      "text/plain": [
       "'You are my sunshine, my only sunshine.You make me happy when skies are grey.'"
      ]
     },
     "execution_count": 73,
     "metadata": {},
     "output_type": "execute_result"
    }
   ],
   "source": [
    "m + n"
   ]
  },
  {
   "cell_type": "code",
   "execution_count": null,
   "id": "04011e89",
   "metadata": {},
   "outputs": [],
   "source": [
    "# A command that makes a string appear 100 times"
   ]
  },
  {
   "cell_type": "code",
   "execution_count": 75,
   "id": "6011db66",
   "metadata": {},
   "outputs": [],
   "source": [
    "o = 'pineapple'"
   ]
  },
  {
   "cell_type": "code",
   "execution_count": 76,
   "id": "136cf1fc",
   "metadata": {},
   "outputs": [
    {
     "data": {
      "text/plain": [
       "'pineapplepineapplepineapplepineapplepineapplepineapplepineapplepineapplepineapplepineapplepineapplepineapplepineapplepineapplepineapplepineapplepineapplepineapplepineapplepineapplepineapplepineapplepineapplepineapplepineapplepineapplepineapplepineapplepineapplepineapplepineapplepineapplepineapplepineapplepineapplepineapplepineapplepineapplepineapplepineapplepineapplepineapplepineapplepineapplepineapplepineapplepineapplepineapplepineapplepineapplepineapplepineapplepineapplepineapplepineapplepineapplepineapplepineapplepineapplepineapplepineapplepineapplepineapplepineapplepineapplepineapplepineapplepineapplepineapplepineapplepineapplepineapplepineapplepineapplepineapplepineapplepineapplepineapplepineapplepineapplepineapplepineapplepineapplepineapplepineapplepineapplepineapplepineapplepineapplepineapplepineapplepineapplepineapplepineapplepineapplepineapplepineapplepineapplepineapplepineapple'"
      ]
     },
     "execution_count": 76,
     "metadata": {},
     "output_type": "execute_result"
    }
   ],
   "source": [
    "o * 100"
   ]
  },
  {
   "cell_type": "code",
   "execution_count": null,
   "id": "a8844096",
   "metadata": {},
   "outputs": [],
   "source": []
  }
 ],
 "metadata": {
  "kernelspec": {
   "display_name": "Python 3 (ipykernel)",
   "language": "python",
   "name": "python3"
  },
  "language_info": {
   "codemirror_mode": {
    "name": "ipython",
    "version": 3
   },
   "file_extension": ".py",
   "mimetype": "text/x-python",
   "name": "python",
   "nbconvert_exporter": "python",
   "pygments_lexer": "ipython3",
   "version": "3.11.7"
  }
 },
 "nbformat": 4,
 "nbformat_minor": 5
}
