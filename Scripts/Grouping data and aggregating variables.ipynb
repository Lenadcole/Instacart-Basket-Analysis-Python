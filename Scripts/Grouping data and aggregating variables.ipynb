{
 "cells": [
  {
   "cell_type": "markdown",
   "id": "464886ab",
   "metadata": {},
   "source": [
    "# 4.8 Grouping data and aggregating variables"
   ]
  },
  {
   "cell_type": "markdown",
   "id": "bc7dcb31",
   "metadata": {},
   "source": [
    "## This script contains the following points:\n",
    "\n",
    "### 1. Importing libraries\n",
    "### 2. Importing data\n",
    "### 3. Aggregating mean of 'order_number' column, grouped by 'department_id'\n",
    "### 4. Analysing result of the aggregation\n",
    "### 5. Creating a loyalty flag using transform() and loc()\n",
    "### 6. Checking basic statistics of product prices for each loyalty category\n",
    "### 7. Creating a spending flag for each user\n",
    "### 8. Creating an order frequency flag\n",
    "### 9. Exporting data"
   ]
  },
  {
   "cell_type": "markdown",
   "id": "81bf879d",
   "metadata": {},
   "source": [
    "#### 1. Importing libraries"
   ]
  },
  {
   "cell_type": "code",
   "execution_count": 2,
   "id": "058b11a9",
   "metadata": {},
   "outputs": [],
   "source": [
    "import pandas as pd\n",
    "import numpy as np\n",
    "import os"
   ]
  },
  {
   "cell_type": "markdown",
   "id": "e48f2993",
   "metadata": {},
   "source": [
    "#### 2. Import data"
   ]
  },
  {
   "cell_type": "code",
   "execution_count": 3,
   "id": "75d1e37a",
   "metadata": {},
   "outputs": [],
   "source": [
    "# Create path\n",
    "\n",
    "path = r'C:\\Users\\Lenad\\Documents\\Data Analytics Immersion\\Achievement 4\\Jupyter folder\\Instacart basket analysis'"
   ]
  },
  {
   "cell_type": "code",
   "execution_count": 4,
   "id": "3fcd2302",
   "metadata": {},
   "outputs": [],
   "source": [
    "# Import ords_prods_merge\n",
    "\n",
    "df_ords_prods_merge = pd.read_pickle(os.path.join(path, '02. Data', 'Prepared Data', 'ords_prods_merge_derived2.pkl'))"
   ]
  },
  {
   "cell_type": "code",
   "execution_count": 1,
   "id": "e08407da",
   "metadata": {},
   "outputs": [
    {
     "ename": "NameError",
     "evalue": "name 'df_ords_prods_merge' is not defined",
     "output_type": "error",
     "traceback": [
      "\u001b[1;31m---------------------------------------------------------------------------\u001b[0m",
      "\u001b[1;31mNameError\u001b[0m                                 Traceback (most recent call last)",
      "Cell \u001b[1;32mIn[1], line 3\u001b[0m\n\u001b[0;32m      1\u001b[0m \u001b[38;5;66;03m# Check imported dataframe\u001b[39;00m\n\u001b[1;32m----> 3\u001b[0m df_ords_prods_merge\u001b[38;5;241m.\u001b[39mshape\n",
      "\u001b[1;31mNameError\u001b[0m: name 'df_ords_prods_merge' is not defined"
     ]
    }
   ],
   "source": [
    "# Check imported dataframe\n",
    "\n",
    "df_ords_prods_merge.shape"
   ]
  },
  {
   "cell_type": "code",
   "execution_count": null,
   "id": "4587f7da",
   "metadata": {},
   "outputs": [],
   "source": [
    "df_ords_prods_merge.head()"
   ]
  },
  {
   "cell_type": "markdown",
   "id": "3f0d9931",
   "metadata": {},
   "source": [
    "#### 3.  Aggregating mean of 'order_number' column, grouped by 'department_id'"
   ]
  },
  {
   "cell_type": "code",
   "execution_count": null,
   "id": "4e971aec",
   "metadata": {
    "scrolled": true
   },
   "outputs": [],
   "source": [
    "df_ords_prods_merge.groupby('department_id').agg({'order_number':['mean']})"
   ]
  },
  {
   "cell_type": "markdown",
   "id": "c89b0d56",
   "metadata": {},
   "source": [
    "#### 4. Analysing the result of the aggregation"
   ]
  },
  {
   "cell_type": "markdown",
   "id": "380e5a3a",
   "metadata": {},
   "source": [
    "The mean for the entire dataframe is generally slightly higher than for the subset - for example, the mean values of departments 15 and 21 for the subset were 15.690354 and 21.996844 respectively, while those values were 16.165037 and 22.902379 for the dataframe as a whole. However, the results are not wildly different, so the subset does appear to be a reasonably representative sample of the whole dataframe."
   ]
  },
  {
   "cell_type": "markdown",
   "id": "ecea4910",
   "metadata": {},
   "source": [
    "#### 5. Creating a loyalty flag using transform() and loc()"
   ]
  },
  {
   "cell_type": "code",
   "execution_count": null,
   "id": "f88f2370",
   "metadata": {},
   "outputs": [],
   "source": [
    "# Create Loyal customer flag\n",
    "\n",
    "df_ords_prods_merge.loc[df_ords_prods_merge['max_order'] > 40, 'loyalty_flag'] = 'Loyal customer'"
   ]
  },
  {
   "cell_type": "code",
   "execution_count": null,
   "id": "2c7c3130",
   "metadata": {},
   "outputs": [],
   "source": [
    "# Create Regular customer flag\n",
    "\n",
    "df_ords_prods_merge.loc[(df_ords_prods_merge['max_order'] <= 40) & (df_ords_prods_merge['max_order'] > 10), 'loyalty_flag'] = 'Regular customer'"
   ]
  },
  {
   "cell_type": "code",
   "execution_count": null,
   "id": "7a3ae136",
   "metadata": {},
   "outputs": [],
   "source": [
    "# Create New customer flag\n",
    "\n",
    "df_ords_prods_merge.loc[df_ords_prods_merge['max_order'] <= 10, 'loyalty_flag'] = 'New customer'"
   ]
  },
  {
   "cell_type": "code",
   "execution_count": null,
   "id": "0b090544",
   "metadata": {},
   "outputs": [],
   "source": [
    "# Checking results of creating a loyalty flag"
   ]
  },
  {
   "cell_type": "code",
   "execution_count": null,
   "id": "9a7eaba8",
   "metadata": {},
   "outputs": [],
   "source": [
    "df_ords_prods_merge[['user_id', 'loyalty_flag', 'order_number']].head()"
   ]
  },
  {
   "cell_type": "code",
   "execution_count": null,
   "id": "8751d1f7",
   "metadata": {},
   "outputs": [],
   "source": [
    "df_ords_prods_merge ['loyalty_flag'].value_counts(dropna = False)"
   ]
  },
  {
   "cell_type": "markdown",
   "id": "4461a806",
   "metadata": {},
   "source": [
    "#### 6. Checking basic statistics of product prices for each loyalty category"
   ]
  },
  {
   "cell_type": "code",
   "execution_count": null,
   "id": "f0678156",
   "metadata": {},
   "outputs": [],
   "source": [
    "# Checking mean, min and max for each loyalty category\n",
    "\n",
    "df_ords_prods_merge.groupby('loyalty_flag').agg({'prices': ['mean', 'max', 'min']})"
   ]
  },
  {
   "cell_type": "markdown",
   "id": "8f520672",
   "metadata": {},
   "source": [
    "The prices of products purchased by loyal customers is, on average, lower than those purchased by new and regular customers - approximately \\\\$3 lower than new customers and approximately \\\\$2 lower than regular customers . The maximum and minimum prices of the products purchased does not differ between the groups."
   ]
  },
  {
   "cell_type": "markdown",
   "id": "c73065ae",
   "metadata": {},
   "source": [
    "#### 7. Creating a spending flag for each user"
   ]
  },
  {
   "cell_type": "code",
   "execution_count": null,
   "id": "3a0ac191",
   "metadata": {},
   "outputs": [],
   "source": [
    "df_ords_prods_merge['avg_price'] = df_ords_prods_merge.groupby (['user_id'])['prices'].transform(np.mean)"
   ]
  },
  {
   "cell_type": "code",
   "execution_count": null,
   "id": "2e007059",
   "metadata": {},
   "outputs": [],
   "source": [
    "# Checking avg_price column\n",
    "\n",
    "df_ords_prods_merge.head(100)"
   ]
  },
  {
   "cell_type": "code",
   "execution_count": null,
   "id": "940cd676",
   "metadata": {},
   "outputs": [],
   "source": [
    "# Create 'Low spender' flag\n",
    "\n",
    "df_ords_prods_merge.loc[df_ords_prods_merge['avg_price'] < 10, 'spending_flag'] = 'Low spender'"
   ]
  },
  {
   "cell_type": "code",
   "execution_count": null,
   "id": "70081db6",
   "metadata": {},
   "outputs": [],
   "source": [
    "# Create 'High spender' flag\n",
    "\n",
    "df_ords_prods_merge.loc[df_ords_prods_merge['avg_price'] >= 10, 'spending_flag'] = 'High spender'"
   ]
  },
  {
   "cell_type": "code",
   "execution_count": null,
   "id": "6d672f50",
   "metadata": {},
   "outputs": [],
   "source": [
    "# Check spending_flag\n",
    "\n",
    "df_ords_prods_merge.head()"
   ]
  },
  {
   "cell_type": "code",
   "execution_count": null,
   "id": "61beb3d6",
   "metadata": {},
   "outputs": [],
   "source": [
    "# Check values of spending flags\n",
    "\n",
    "df_ords_prods_merge ['spending_flag'].value_counts(dropna = False)"
   ]
  },
  {
   "cell_type": "markdown",
   "id": "228ab854",
   "metadata": {},
   "source": [
    "There is a huge difference in the number of low and high spenders; in fact, there are approximately 50 times as many low spenders as high spenders!"
   ]
  },
  {
   "cell_type": "markdown",
   "id": "dc9a0479",
   "metadata": {},
   "source": [
    "#### 8. Creating an order frequency flag"
   ]
  },
  {
   "cell_type": "code",
   "execution_count": null,
   "id": "739e3fd1",
   "metadata": {},
   "outputs": [],
   "source": [
    "df_ords_prods_merge['median_regularity'] = df_ords_prods_merge.groupby (['user_id'])['days_since_last_order'].transform(np.median)"
   ]
  },
  {
   "cell_type": "code",
   "execution_count": null,
   "id": "1be2cde1",
   "metadata": {},
   "outputs": [],
   "source": [
    "# Create 'Non-frequent customer' flag\n",
    "\n",
    "df_ords_prods_merge.loc[df_ords_prods_merge['median_regularity'] > 20, 'frequency_flag'] = 'Non-frequent customer'"
   ]
  },
  {
   "cell_type": "code",
   "execution_count": null,
   "id": "d8ff292d",
   "metadata": {},
   "outputs": [],
   "source": [
    "# Create 'Regular customer' flag\n",
    "\n",
    "df_ords_prods_merge.loc[(df_ords_prods_merge['median_regularity'] > 10) & (df_ords_prods_merge['median_regularity'] <= 20), 'frequency_flag'] = 'Regular customer'"
   ]
  },
  {
   "cell_type": "code",
   "execution_count": null,
   "id": "4c239a76",
   "metadata": {},
   "outputs": [],
   "source": [
    "# Create 'Frequent customer' flag\n",
    "\n",
    "df_ords_prods_merge.loc[df_ords_prods_merge['median_regularity'] <= 10, 'frequency_flag'] = 'Frequent customer'"
   ]
  },
  {
   "cell_type": "code",
   "execution_count": null,
   "id": "6d78f2f7",
   "metadata": {},
   "outputs": [],
   "source": [
    "# Check frequency_flag\n",
    "\n",
    "df_ords_prods_merge.head()"
   ]
  },
  {
   "cell_type": "code",
   "execution_count": null,
   "id": "955227d6",
   "metadata": {},
   "outputs": [],
   "source": [
    "# Check values of frequency flags\n",
    "\n",
    "df_ords_prods_merge['frequency_flag'].value_counts(dropna = False)"
   ]
  },
  {
   "cell_type": "markdown",
   "id": "1f7e7c77",
   "metadata": {},
   "source": [
    "The creation of the frequency flag shows that there are almost double the amount of Frequent customers than Regular and Non-frequent customers combined."
   ]
  },
  {
   "cell_type": "markdown",
   "id": "5e54e5cc",
   "metadata": {},
   "source": [
    "#### 9. Exporting data"
   ]
  },
  {
   "cell_type": "code",
   "execution_count": null,
   "id": "ccc13d33",
   "metadata": {},
   "outputs": [],
   "source": [
    "# Export data to pkl\n",
    "\n",
    "df_ords_prods_merge.to_pickle(os.path.join(path, '02. Data','Prepared Data', 'ords_prods_merge_derived_4_8.pkl'))"
   ]
  }
 ],
 "metadata": {
  "kernelspec": {
   "display_name": "Python 3 (ipykernel)",
   "language": "python",
   "name": "python3"
  },
  "language_info": {
   "codemirror_mode": {
    "name": "ipython",
    "version": 3
   },
   "file_extension": ".py",
   "mimetype": "text/x-python",
   "name": "python",
   "nbconvert_exporter": "python",
   "pygments_lexer": "ipython3",
   "version": "3.11.7"
  }
 },
 "nbformat": 4,
 "nbformat_minor": 5
}
